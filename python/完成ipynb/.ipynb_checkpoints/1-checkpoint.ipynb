{
 "cells": [
  {
   "cell_type": "code",
   "execution_count": 1,
   "metadata": {},
   "outputs": [
    {
     "name": "stdout",
     "output_type": "stream",
     "text": [
      "5 140731456352128 <class 'int'> 5 140731456352128 <class 'int'>\n",
      "3.5 1906881969800 <class 'float'>\n",
      "24\n",
      "3.141592653589793\n"
     ]
    }
   ],
   "source": [
    "x,y=5,5\n",
    "print(x,id(x),type(x),y,id(y),type(y))\n",
    "x=3.5\n",
    "print(x,id(x),type(x))\n",
    "import sys\n",
    "print( sys.getsizeof(x) )\n",
    "from math import pi\n",
    "print(pi)\n"
   ]
  },
  {
   "cell_type": "code",
   "execution_count": 3,
   "metadata": {},
   "outputs": [
    {
     "name": "stdout",
     "output_type": "stream",
     "text": [
      "接收人名字：李明\n",
      "节日名称：中秋节\n",
      "发送人名称：张三\n",
      "李明,中秋节快乐。\n",
      "          发送人：张三\n"
     ]
    }
   ],
   "source": [
    "toname=input(\"接收人名字：\")\n",
    "holiday=input(\"节日名称：\")\n",
    "fromname=input(\"发送人名称：\")\n",
    "print(toname+\",\"+holiday+\"快乐。\")\n",
    "print(\"          发送人：\"+fromname)"
   ]
  },
  {
   "cell_type": "code",
   "execution_count": 8,
   "metadata": {},
   "outputs": [
    {
     "name": "stdout",
     "output_type": "stream",
     "text": [
      "请输入圆的半径：6\n",
      "圆的周长： 37.68\n",
      "圆的面积：113.04\n"
     ]
    }
   ],
   "source": [
    "p= 3.14\n",
    "r = float(input(\"请输入圆的半径：\"))\n",
    "print(\"圆的周长：\" ,2*p*r)\n",
    "print(\"圆的面积：%.2f\" %(p*r*r))\n"
   ]
  },
  {
   "cell_type": "code",
   "execution_count": null,
   "metadata": {},
   "outputs": [],
   "source": []
  }
 ],
 "metadata": {
  "kernelspec": {
   "display_name": "Python 3",
   "language": "python",
   "name": "python3"
  },
  "language_info": {
   "codemirror_mode": {
    "name": "ipython",
    "version": 3
   },
   "file_extension": ".py",
   "mimetype": "text/x-python",
   "name": "python",
   "nbconvert_exporter": "python",
   "pygments_lexer": "ipython3",
   "version": "3.7.0"
  }
 },
 "nbformat": 4,
 "nbformat_minor": 5
}
