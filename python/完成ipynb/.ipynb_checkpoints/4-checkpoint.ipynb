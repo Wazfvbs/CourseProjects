{
 "cells": [
  {
   "cell_type": "code",
   "execution_count": 1,
   "metadata": {},
   "outputs": [
    {
     "name": "stdout",
     "output_type": "stream",
     "text": [
      "     *\n",
      "    ***\n",
      "   *****\n",
      "  *******\n"
     ]
    }
   ],
   "source": [
    "def print_star(n):\n",
    "    for i in range(n):\n",
    "        print(\" \"*(n-i),\"*\"*(2*i+1))\n",
    "print_star(4)"
   ]
  },
  {
   "cell_type": "code",
   "execution_count": 4,
   "metadata": {},
   "outputs": [
    {
     "name": "stdout",
     "output_type": "stream",
     "text": [
      "         *\n",
      "       ***\n",
      "     *****\n",
      "   *******\n"
     ]
    }
   ],
   "source": [
    "def print_star(n):\n",
    "    for i in range(n):\n",
    "        print(\" \"*(2*n-2*i),\"*\"*(2*i+1))\n",
    "print_star(4)\n"
   ]
  },
  {
   "cell_type": "code",
   "execution_count": 10,
   "metadata": {},
   "outputs": [
    {
     "name": "stdout",
     "output_type": "stream",
     "text": [
      " *******\n",
      "  *****\n",
      "   ***\n",
      "    *\n"
     ]
    }
   ],
   "source": [
    "def print_star(n):\n",
    "    for i in range(n):\n",
    "        print(\" \"*(i),\"*\"*(2*(n-i)-1))\n",
    "print_star(4)"
   ]
  },
  {
   "cell_type": "code",
   "execution_count": 11,
   "metadata": {},
   "outputs": [
    {
     "name": "stdout",
     "output_type": "stream",
     "text": [
      "1 2 6 24 120 720 5040 40320 362880 3628800 39916800 479001600 6227020800 87178291200 1307674368000 20922789888000 355687428096000 6402373705728000 121645100408832000 2432902008176640000 "
     ]
    }
   ],
   "source": [
    "def facci(n):\n",
    "    s=1\n",
    "    for i in range(2,n+1):\n",
    "        s = s*i\n",
    "    return s\n",
    "for i in range(1,21):\n",
    "    print(facci(i),end=\" \")"
   ]
  },
  {
   "cell_type": "code",
   "execution_count": 12,
   "metadata": {},
   "outputs": [
    {
     "name": "stdout",
     "output_type": "stream",
     "text": [
      "CHINA\n",
      "china\n"
     ]
    }
   ],
   "source": [
    "def to_lower(s):\n",
    "    st=list(s)\n",
    "    for i in range(len(st)):\n",
    "        if st[i].islower():\n",
    "            st[i]=st[i].upper()\n",
    "    return \"\".join(st)\n",
    "def to_upper(s):\n",
    "    st=list(s)\n",
    "    for i in range(len(st)):\n",
    "        if st[i].isupper():\n",
    "            st[i]=st[i].lower()\n",
    "    return \"\".join(st)\n",
    "s=\"chINA\"\n",
    "s=to_lower(s)\n",
    "print(s)\n",
    "s=to_upper(s)\n",
    "print(s)"
   ]
  },
  {
   "cell_type": "code",
   "execution_count": 14,
   "metadata": {},
   "outputs": [
    {
     "name": "stdout",
     "output_type": "stream",
     "text": [
      "16\n",
      "3\n"
     ]
    }
   ],
   "source": [
    "def process(n):\n",
    "    if n%2==0:\n",
    "        print(n//2)\n",
    "    else:\n",
    "        print(n*3+1)\n",
    "process(5)\n",
    "process(6)"
   ]
  },
  {
   "cell_type": "code",
   "execution_count": 16,
   "metadata": {},
   "outputs": [
    {
     "name": "stdout",
     "output_type": "stream",
     "text": [
      "[35.0, 5, 50, 40, 55]\n",
      "[56.25, 8, 60, 80, 74, 90, 66]\n"
     ]
    }
   ],
   "source": [
    "def calfilter(*number):\n",
    "    st=[]\n",
    "    avg=sum(number)/len(number)\n",
    "    st.append(round(avg,2))\n",
    "    st.append(len(number))\n",
    "    for i in number:\n",
    "        if i >avg:\n",
    "            st.append(i)\n",
    "    return st\n",
    "st=[20,10,50,40,55]\n",
    "x=calfilter(*st)\n",
    "print(x)\n",
    "x=calfilter(20,10,50,60,80,74,90,66)\n",
    "print(x)"
   ]
  },
  {
   "cell_type": "code",
   "execution_count": 17,
   "metadata": {},
   "outputs": [
    {
     "name": "stdout",
     "output_type": "stream",
     "text": [
      "[('the', 25), ('monkey', 10), ('net', 6), ('a', 4), ('to', 4)]\n"
     ]
    }
   ],
   "source": [
    "strstory='''Once upon a time, there lived a monkey in the woods. The monkey climbed up the tree and looked down at the river everyday.\n",
    "One day, the monkey saw fishermen throw a net over the river. He watcbbhed how the fishermen caught fish.\n",
    "Sometime after, the fishermen left the net and went to have lunch. Then, the monkey climbed down from the tree and went to the riverside. The monkey was planning to throw the net like the fishermen did.\n",
    "The monkey was confident since he was good at imitating. Yet, the net wound around the monkey when he touched it. Tied up in the net, the monkey fell into the water.\n",
    "The monkey regretted his behavior, but it was too late. \"I should have learned how to use the net before touching it. After believing my prowess and showing off, I am in a bad fix.\" The monkey who did not behave carefully drowned in the water.\n",
    "'''\n",
    "for i in \".,'\\\"?\\n\":\n",
    "    strstory=strstory.replace(i,\" \")\n",
    "strstory = strstory.lower()\n",
    "words=strstory.split()\n",
    "#print(words)\n",
    "words2=set(words)\n",
    "dic={}\n",
    "for i in words2:\n",
    "    dic[i]=words.count(i)\n",
    "stdic=list(dic.items())\n",
    "def k(x):\n",
    "    return x[1]\n",
    "stdic=sorted(stdic,key=k,reverse=True)   #与使用key=lambda x:x[1]效果相同\n",
    "print(stdic[0:5])"
   ]
  },
  {
   "cell_type": "code",
   "execution_count": 20,
   "metadata": {},
   "outputs": [
    {
     "name": "stdout",
     "output_type": "stream",
     "text": [
      "[('the', 25), ('monkey', 10), ('net', 6), ('a', 4), ('to', 4)]\n"
     ]
    }
   ],
   "source": [
    "strstory='''Once upon a time, there lived a monkey in the woods. The monkey climbed up the tree and looked down at the river everyday.\n",
    "One day, the monkey saw fishermen throw a net over the river. He watcbbhed how the fishermen caught fish.\n",
    "Sometime after, the fishermen left the net and went to have lunch. Then, the monkey climbed down from the tree and went to the riverside. The monkey was planning to throw the net like the fishermen did.\n",
    "The monkey was confident since he was good at imitating. Yet, the net wound around the monkey when he touched it. Tied up in the net, the monkey fell into the water.\n",
    "The monkey regretted his behavior, but it was too late. \"I should have learned how to use the net before touching it. After believing my prowess and showing off, I am in a bad fix.\" The monkey who did not behave carefully drowned in the water.\n",
    "'''\n",
    "for i in \".,'\\\"?\\n\":\n",
    "    strstory=strstory.replace(i,\" \")\n",
    "strstory = strstory.lower()\n",
    "words=strstory.split()\n",
    "#print(words)\n",
    "words2=set(words)\n",
    "dic={}\n",
    "for i in words2:\n",
    "    dic[i]=words.count(i)\n",
    "st=list(dic.items())\n",
    "stdic=sorted(st,key=lambda x:x[1],reverse=True)\n",
    "print(stdic[0:5])"
   ]
  }
 ],
 "metadata": {
  "kernelspec": {
   "display_name": "Python 3",
   "language": "python",
   "name": "python3"
  },
  "language_info": {
   "codemirror_mode": {
    "name": "ipython",
    "version": 3
   },
   "file_extension": ".py",
   "mimetype": "text/x-python",
   "name": "python",
   "nbconvert_exporter": "python",
   "pygments_lexer": "ipython3",
   "version": "3.7.0"
  }
 },
 "nbformat": 4,
 "nbformat_minor": 2
}
