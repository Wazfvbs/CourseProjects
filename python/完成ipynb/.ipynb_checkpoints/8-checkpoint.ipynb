{
 "cells": [
  {
   "cell_type": "code",
   "execution_count": null,
   "metadata": {},
   "outputs": [],
   "source": [
    "filepath=r\"F:\\data\\木材剩余物.csv\"\n",
    "df=pd.read_csv(filepath,sep=\",\",index_col=0)\n",
    "colunns=[\"剩余物\",\"采伐量\"]\n",
    "df.columns=columns\n",
    "df.head()"
   ]
  },
  {
   "cell_type": "code",
   "execution_count": null,
   "metadata": {},
   "outputs": [],
   "source": [
    "X=df[[\"采伐量\"]]\n",
    "Y=df[\"剩余物\"]\n",
    "X.head()"
   ]
  },
  {
   "cell_type": "code",
   "execution_count": null,
   "metadata": {},
   "outputs": [],
   "source": [
    "import matplotlib.pyplot as plt\n",
    "plt.scatter(X,Y)"
   ]
  },
  {
   "cell_type": "code",
   "execution_count": null,
   "metadata": {},
   "outputs": [],
   "source": [
    "from sklearn.linear_model import LinearRegression\n",
    "regr=LinearRegression()\n",
    "regr.fit (X, Y)\n",
    "regr.coef_,regr.intercept_"
   ]
  },
  {
   "cell_type": "code",
   "execution_count": null,
   "metadata": {},
   "outputs": [],
   "source": [
    "regr.predict([[20]])"
   ]
  },
  {
   "cell_type": "code",
   "execution_count": null,
   "metadata": {},
   "outputs": [],
   "source": [
    "import statsmodels.api as sm\n",
    "X2=sm.add_constant(X)\n",
    "est=sm.OLS(Y,X2).fit()\n",
    "print(est.summary())"
   ]
  },
  {
   "cell_type": "code",
   "execution_count": null,
   "metadata": {},
   "outputs": [],
   "source": [
    "X2"
   ]
  },
  {
   "cell_type": "code",
   "execution_count": null,
   "metadata": {},
   "outputs": [],
   "source": [
    "plt.scatter(X,Y)\n",
    "plt.plot(X, regr.predict(X),color='r')\n",
    "plt.text(20,20,\"y={:.3f}x{:+.3i}\" .format(regr.coef_[0],regr.intercept_), fontsize=15)\n",
    "plt.show()"
   ]
  },
  {
   "cell_type": "code",
   "execution_count": null,
   "metadata": {},
   "outputs": [],
   "source": [
    "df[\"预测剩余物\"]=regr.predict(X)\n",
    "df[\"误差\"]=df[\"预测剩余物\"]-df[\"剩余物\"]\n",
    "df"
   ]
  },
  {
   "cell_type": "code",
   "execution_count": null,
   "metadata": {},
   "outputs": [],
   "source": [
    "plt.rcParams[\"font.sans-serif\"]=[\"SimHei\"]\n",
    "plt.rcParams[\"axes.unicode_minus\"] = False\n",
    "sm.qqplot(est.resid,line='r')\n",
    "plt.show()"
   ]
  },
  {
   "cell_type": "code",
   "execution_count": null,
   "metadata": {},
   "outputs": [],
   "source": [
    "fig=plt.figure(figsize(12,83))\n",
    "fig=sm.graphics.plot_regree_exog(est,\"采伐量\",fig=fig)"
   ]
  },
  {
   "cell_type": "code",
   "execution_count": null,
   "metadata": {},
   "outputs": [],
   "source": [
    "est=sm.OLS(Y,X).fit()\n",
    "est.summary()"
   ]
  },
  {
   "cell_type": "code",
   "execution_count": null,
   "metadata": {},
   "outputs": [],
   "source": [
    "est.predict(20)"
   ]
  },
  {
   "cell_type": "code",
   "execution_count": null,
   "metadata": {},
   "outputs": [],
   "source": [
    "yp=est.prediet(20)\n",
    "plt.scatter(X,Y)\n",
    "plt.plot(X,y_pred,color='green')\n",
    "for i in df.index:\n",
    "    p1t.plot([df.loc[i,\"采伐量\"],df.loc[i,\"采伐量\"]],[df.loc[i。\"剩余物\"],df.loc[i,\"预测剩余物\"]],color='r '\n",
    "plt.text(20, 20,\"y={:.3f}x\".format(0.3855),fontsize=15)\n",
    "plt.scatter(20,yp,marker='*',color=\"blue\",s=300)\n",
    "plt.text(18,10,s=\"{:.3f}\".format(yp[0]),fontsize=12)\n",
    "plt.xlim(10,70)\n",
    "plt.ylim(0,30)\n",
    "plt.xlabel(\"采伐量\")\n",
    "plt.ylabel(\"不材剩余物\")\n",
    "plt.show()"
   ]
  },
  {
   "cell_type": "code",
   "execution_count": null,
   "metadata": {},
   "outputs": [],
   "source": [
    "from sklearn.preprocessing import PolynomialFeatures\n",
    "poly=PolynomialFeatures(degree=2) #二次项模型\n",
    "Xpoly=poly.fit_transform(X)\n",
    "poly3=PolynomialFeatures(degree=3)#三次项模型\n",
    "Xpoly3=poly3.fit_transform(X)\n",
    "poly_reg2=sm.OLS(endog=Y,exog=Xpoly).fit()  #一元二次多项式回归\n",
    "Y_pre2=poly_reg2.predict(Xpoly)\n",
    "poly_reg3=sm.OLS(endog=Y,exog=Xpoly3).fit()#一元三次多项式回归\n",
    "Y_pre3=poly_reg.predict(Xpoly3)\n",
    "plt.scatter(X,Y)\n",
    "plt.plot(X,regr.predict(X),color='green',label=\"linear\")\n",
    "plt.plot(X,Y_pre2,color=\"r\",label=\"poly_degree=2\")\n",
    "plt.plot(X,Y_pre3,color=\"b\",label=\"poly_degree=3\")\n",
    "plt.legend( )\n",
    "from sklearn.preprocessing import PolynomialFeatures\n",
    "poly=PolynomialFeatures(degree=2) #二次项模型\n",
    "Xpoly=poly.fit_transform(X)\n",
    "poly3=PolynomialFeatures(degree=3)#三次项模型\n",
    "Xpoly3=poly3.fit_transform(X)\n",
    "poly_reg2=sm.OLS(endog=Y,exog=Xpoly).fit()  #一元二次多项式回归\n",
    "Y_pre2=poly_reg2.predict(Xpoly)\n",
    "poly_reg3=sm.OLS(endog=Y,exog=Xpoly3).fit()#一元三次多项式回归\n",
    "Y_pre3=poly_reg.predict(Xpoly3)\n",
    "plt.scatter(X,Y)\n",
    "plt.plot(X,regr.predict(X),color='green',label=\"linear\")\n",
    "plt.plot(X,Y_pre2,color=\"r\",label=\"poly_degree=2\")\n",
    "plt.plot(X,Y_pre3,color=\"b\",label=\"poly_degree=3\")\n",
    "plt.legend( )\n"
   ]
  },
  {
   "cell_type": "code",
   "execution_count": null,
   "metadata": {},
   "outputs": [],
   "source": [
    "poly_reg2.summary()"
   ]
  },
  {
   "cell_type": "code",
   "execution_count": null,
   "metadata": {},
   "outputs": [],
   "source": [
    "poly_reg3.summary()"
   ]
  },
  {
   "cell_type": "code",
   "execution_count": null,
   "metadata": {},
   "outputs": [],
   "source": [
    "import matplotlib.pyplot as plt\n",
    "import pandas as pd\n",
    "from sklearn.linear_model import LinearRegression\n",
    "df=pd.read_csv(\"F :/ datafAdvertising.csv\")\n",
    "df"
   ]
  },
  {
   "cell_type": "code",
   "execution_count": null,
   "metadata": {},
   "outputs": [],
   "source": [
    "x=df.iloc[:,:-1]\n",
    "Y=df[\"sales\"]"
   ]
  },
  {
   "cell_type": "code",
   "execution_count": null,
   "metadata": {},
   "outputs": [],
   "source": [
    "df.describe()"
   ]
  },
  {
   "cell_type": "code",
   "execution_count": null,
   "metadata": {},
   "outputs": [],
   "source": [
    "import numpy as np\n",
    "plt.figure(figsize=(15,5))\n",
    "plt,subplot(1,3,1)\n",
    "plt.scatter(X[\"TV\"],Y)\n",
    "plt.Xticks(np.arange(0,300,30))\n",
    "plt.subplot(1,3,2)\n",
    "plt.scatter(X[\"radio\"],Y)\n",
    "plt.Xticks(np.arange(1,50,3))\n",
    "plt.subplot(1,3,3)\n",
    "plt.scatter(X[\"newspape\"],Y)\n",
    "plt.show()"
   ]
  },
  {
   "cell_type": "code",
   "execution_count": null,
   "metadata": {},
   "outputs": [],
   "source": [
    "import statsmodels.api as sm\n",
    "X2=sm.add_constant(X)\n",
    "est=sm.OLS(Y,X2).f1t()\n",
    "print(est.summary())"
   ]
  },
  {
   "cell_type": "code",
   "execution_count": null,
   "metadata": {},
   "outputs": [],
   "source": [
    "fig=plt.figure(figsize=(12,8))\n",
    "fig=sm.graphics.plot_regress_exog(est,\"TV\",fig=fig)"
   ]
  },
  {
   "cell_type": "code",
   "execution_count": null,
   "metadata": {},
   "outputs": [],
   "source": [
    "fig=plt.figure(figsize=(12,8))\n",
    "fig=sm.graphics.plot_regress_exog(est,\"redio\",fig=fig)"
   ]
  }
 ],
 "metadata": {
  "kernelspec": {
   "display_name": "Python 3",
   "language": "python",
   "name": "python3"
  },
  "language_info": {
   "codemirror_mode": {
    "name": "ipython",
    "version": 3
   },
   "file_extension": ".py",
   "mimetype": "text/x-python",
   "name": "python",
   "nbconvert_exporter": "python",
   "pygments_lexer": "ipython3",
   "version": "3.7.0"
  }
 },
 "nbformat": 4,
 "nbformat_minor": 2
}
