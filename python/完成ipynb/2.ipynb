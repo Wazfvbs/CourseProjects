{
 "cells": [
  {
   "cell_type": "code",
   "execution_count": 2,
   "metadata": {},
   "outputs": [
    {
     "name": "stdout",
     "output_type": "stream",
     "text": [
      "5 140721481314176 <class 'int'>\n",
      "6 140721481314208 <class 'int'>\n",
      "0.5 2829835902648 <class 'float'>\n",
      "china 2829848655776\n",
      "chinA 2829848741064\n"
     ]
    }
   ],
   "source": [
    "x=5\n",
    "print(x,id(x),type(x))\n",
    "x=x+1\n",
    "print(x,id(x),type(x))\n",
    "x=0.5\n",
    "print(x,id(x),type(x))\n",
    "s=\"china\"\n",
    "print(s,id(s))\n",
    "s=s.replace('a','A')\n",
    "print(s,id(s))"
   ]
  },
  {
   "cell_type": "code",
   "execution_count": 4,
   "metadata": {},
   "outputs": [
    {
     "name": "stdout",
     "output_type": "stream",
     "text": [
      "20\n",
      "25\n",
      "45\n"
     ]
    }
   ],
   "source": [
    "a=int(input())\n",
    "b=int(input())\n",
    "print(a+b)"
   ]
  },
  {
   "cell_type": "code",
   "execution_count": 5,
   "metadata": {},
   "outputs": [
    {
     "name": "stdout",
     "output_type": "stream",
     "text": [
      "20\n",
      "25\n",
      "45\n"
     ]
    },
    {
     "data": {
      "text/plain": [
       "int"
      ]
     },
     "execution_count": 5,
     "metadata": {},
     "output_type": "execute_result"
    }
   ],
   "source": [
    "a=input()\n",
    "b=input()\n",
    "a,b=map(int,(a,b))\n",
    "print(a+b)\n",
    "type(a)"
   ]
  },
  {
   "cell_type": "code",
   "execution_count": 7,
   "metadata": {},
   "outputs": [
    {
     "name": "stdout",
     "output_type": "stream",
     "text": [
      "2,35,65,3.5\n"
     ]
    },
    {
     "data": {
      "text/plain": [
       "(2, 35, 65, 3.5)"
      ]
     },
     "execution_count": 7,
     "metadata": {},
     "output_type": "execute_result"
    }
   ],
   "source": [
    "x=eval(input())\n",
    "x"
   ]
  },
  {
   "cell_type": "code",
   "execution_count": 8,
   "metadata": {},
   "outputs": [
    {
     "data": {
      "text/plain": [
       "tuple"
      ]
     },
     "execution_count": 8,
     "metadata": {},
     "output_type": "execute_result"
    }
   ],
   "source": [
    "type(x)"
   ]
  },
  {
   "cell_type": "code",
   "execution_count": 9,
   "metadata": {},
   "outputs": [
    {
     "name": "stdout",
     "output_type": "stream",
     "text": [
      "[2, 3.5, 35, 65]\n",
      "(2, 35, 65, 3.5)\n"
     ]
    },
    {
     "data": {
      "text/plain": [
       "[2, 3.5, 35, 65]"
      ]
     },
     "execution_count": 9,
     "metadata": {},
     "output_type": "execute_result"
    }
   ],
   "source": [
    "print(sorted(x))  #直接输出排序后的对象，注意sorted不改变x\n",
    "print(x) #x还是原来的值\n",
    "x=sorted(x)  #重新赋值，保存排序后的对象\n",
    "x"
   ]
  },
  {
   "cell_type": "code",
   "execution_count": 5,
   "metadata": {
    "scrolled": true
   },
   "outputs": [
    {
     "name": "stdout",
     "output_type": "stream",
     "text": [
      "2 9\n",
      "2 3 5 7 "
     ]
    }
   ],
   "source": [
    "m,n = map(int,input().split())\n",
    "if m>n:\n",
    "    m,n=n,m\n",
    "for i in range(m,n+1):\n",
    "    for j in range(2,i):\n",
    "        if i%j==0:\n",
    "            break\n",
    "    else:\n",
    "        print(i,end=\" \")"
   ]
  },
  {
   "cell_type": "code",
   "execution_count": 8,
   "metadata": {},
   "outputs": [
    {
     "name": "stdout",
     "output_type": "stream",
     "text": [
      "父亲身高: ,母亲身高:180 165\n",
      "男性身高=186.3,女性身高=165.6\n"
     ]
    }
   ],
   "source": [
    "father,mother=map(int,input(\"父亲身高: ,母亲身高:\").split())\n",
    "boy=(father+mother)*1.08/2\n",
    "girl=(father*0.923+mother)/2\n",
    "print('男性身高={0},女性身高={1}'.format(round(boy,1),round(girl,1)))"
   ]
  },
  {
   "cell_type": "code",
   "execution_count": 9,
   "metadata": {},
   "outputs": [
    {
     "name": "stdout",
     "output_type": "stream",
     "text": [
      "请输入成绩72\n",
      "中等\n"
     ]
    }
   ],
   "source": [
    "score=int(input(\"请输入成绩\"))\n",
    "if score>=90:\n",
    "    print(\"优秀\")\n",
    "elif score>=80:\n",
    "    print(\"良好\")\n",
    "elif score>=70:\n",
    "    print(\"中等\")\n",
    "elif score>=60:\n",
    "    print(\"及格\")\n",
    "elif 60>score>=0:\n",
    "    print(\"不及格\")\n",
    "else:\n",
    "    print(\"“数据输入有误！\")"
   ]
  },
  {
   "cell_type": "code",
   "execution_count": 1,
   "metadata": {},
   "outputs": [
    {
     "name": "stdout",
     "output_type": "stream",
     "text": [
      "50\n",
      "小了\n",
      "75\n",
      "小了\n",
      "88\n",
      "小了\n",
      "94\n",
      "正好\n"
     ]
    }
   ],
   "source": [
    "import random\n",
    "number = random.randint(0,100)\n",
    "for i in range(7):\n",
    "    guess = int(input())  \n",
    "    if guess==number:\n",
    "        print(\"正好\")\n",
    "        break\n",
    "    if i==6:\n",
    "        print(\"失败 \",number)\n",
    "    if guess>number:\n",
    "        print(\"大了\")\n",
    "    else:\n",
    "        print(\"小了\")"
   ]
  },
  {
   "cell_type": "code",
   "execution_count": 2,
   "metadata": {},
   "outputs": [
    {
     "name": "stdout",
     "output_type": "stream",
     "text": [
      "请输入一串字符：asdfdsa4545478   sdsdsd4654\n",
      "英文字符个数：13\t数字个数：11\t空格个数：3\t其他字符个数：0"
     ]
    }
   ],
   "source": [
    "a=input(\"请输入一串字符：\")\n",
    "N=len(a)\n",
    "english=0\n",
    "numbers=0\n",
    "space=0\n",
    "extra=0\n",
    "a=a.lower()\n",
    "for i in range(0,N):\n",
    "    if a[i]>=\"a\"and a[i]<=\"z\":\n",
    "        english+=1\n",
    "    elif a[i].isnumeric():\n",
    "        numbers+=1\n",
    "    elif a[i].isspace():\n",
    "        space+=1\n",
    "    else:\n",
    "        extra+=1\n",
    "print(\"英文字符个数：{}\\t数字个数：{}\\t空格个数：{}\\t其他字符个数：{}\".format(english,numbers,space,extra),end=\"\")\n"
   ]
  },
  {
   "cell_type": "code",
   "execution_count": 3,
   "metadata": {},
   "outputs": [
    {
     "name": "stdout",
     "output_type": "stream",
     "text": [
      "y\n",
      "216\n",
      "恭喜！获得了bike\n"
     ]
    }
   ],
   "source": [
    "import random\n",
    "st=[]\n",
    "st.append(\"car\")\n",
    "st.extend(['bike']*10)\n",
    "st.extend(['notebook']*100)\n",
    "st.extend(['onemoreagain']*1000)\n",
    "x=input()\n",
    "if x==\"y\" or x=='Y':\n",
    "    m=random.randint(0,len(st))\n",
    "    print(m)\n",
    "    print('恭喜！获得了%s'%st[1])\n"
   ]
  }
 ],
 "metadata": {
  "kernelspec": {
   "display_name": "Python 3",
   "language": "python",
   "name": "python3"
  },
  "language_info": {
   "codemirror_mode": {
    "name": "ipython",
    "version": 3
   },
   "file_extension": ".py",
   "mimetype": "text/x-python",
   "name": "python",
   "nbconvert_exporter": "python",
   "pygments_lexer": "ipython3",
   "version": "3.7.0"
  }
 },
 "nbformat": 4,
 "nbformat_minor": 2
}
