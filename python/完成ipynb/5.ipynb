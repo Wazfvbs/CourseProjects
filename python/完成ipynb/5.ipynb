{
 "cells": [
  {
   "cell_type": "code",
   "execution_count": 1,
   "metadata": {},
   "outputs": [
    {
     "data": {
      "text/plain": [
       "array([0., 0., 0., 0., 1., 0., 0., 0., 0., 0.])"
      ]
     },
     "execution_count": 1,
     "metadata": {},
     "output_type": "execute_result"
    }
   ],
   "source": [
    "import numpy as np\n",
    "ar=np.zeros(10)\n",
    "ar[4]=1\n",
    "ar"
   ]
  },
  {
   "cell_type": "code",
   "execution_count": 2,
   "metadata": {},
   "outputs": [
    {
     "data": {
      "text/plain": [
       "array([[13, 13, 12],\n",
       "       [10, 13, 10],\n",
       "       [13, 12, 11],\n",
       "       [13, 10, 12],\n",
       "       [13, 14, 13]])"
      ]
     },
     "execution_count": 2,
     "metadata": {},
     "output_type": "execute_result"
    }
   ],
   "source": [
    "ar=np.random.randint(10,15,15)\n",
    "ar.shape=5,3\n",
    "ar\n"
   ]
  },
  {
   "cell_type": "code",
   "execution_count": 3,
   "metadata": {},
   "outputs": [
    {
     "data": {
      "text/plain": [
       "((5, 3), 15, 2, dtype('int32'), 4)"
      ]
     },
     "execution_count": 3,
     "metadata": {},
     "output_type": "execute_result"
    }
   ],
   "source": [
    "ar.shape,ar.size,ar.ndim,ar.dtype,ar.itemsize"
   ]
  },
  {
   "cell_type": "code",
   "execution_count": 4,
   "metadata": {},
   "outputs": [
    {
     "data": {
      "text/plain": [
       "array([[13, 13, 12, 10, 13],\n",
       "       [10, 13, 12, 11, 13],\n",
       "       [10, 12, 13, 14, 13]])"
      ]
     },
     "execution_count": 4,
     "metadata": {},
     "output_type": "execute_result"
    }
   ],
   "source": [
    "ar.shape=3,5\n",
    "ar"
   ]
  },
  {
   "cell_type": "code",
   "execution_count": 5,
   "metadata": {},
   "outputs": [
    {
     "data": {
      "text/plain": [
       "array([13, 12, 10, 13, 10, 13, 12, 11, 13, 10, 12, 13, 14])"
      ]
     },
     "execution_count": 5,
     "metadata": {},
     "output_type": "execute_result"
    }
   ],
   "source": [
    "ar=ar.ravel()\n",
    "ar2=ar\n",
    "ar2[1:-1]"
   ]
  },
  {
   "cell_type": "code",
   "execution_count": 6,
   "metadata": {},
   "outputs": [
    {
     "data": {
      "text/plain": [
       "array([13, 12, 10, 13, 10, 13, 12, 11, 13, 10, 12, 13, 14])"
      ]
     },
     "execution_count": 6,
     "metadata": {},
     "output_type": "execute_result"
    }
   ],
   "source": [
    "ar=ar.flatten()\n",
    "ar2=ar\n",
    "ar2[1:-1]"
   ]
  },
  {
   "cell_type": "code",
   "execution_count": 7,
   "metadata": {},
   "outputs": [
    {
     "data": {
      "text/plain": [
       "array([ 13, 100,  12,  10,  13,  10,  13,  12,  11,  13,  10,  12,  13,\n",
       "        14,  13])"
      ]
     },
     "execution_count": 7,
     "metadata": {},
     "output_type": "execute_result"
    }
   ],
   "source": [
    "ar2[1]=100\n",
    "ar2"
   ]
  },
  {
   "cell_type": "code",
   "execution_count": 8,
   "metadata": {},
   "outputs": [
    {
     "data": {
      "text/plain": [
       "array([ 13, 100,  12,  10,  13,  10,  13,  12,  11,  13,  10,  12,  13,\n",
       "        14,  13])"
      ]
     },
     "execution_count": 8,
     "metadata": {},
     "output_type": "execute_result"
    }
   ],
   "source": [
    "ar"
   ]
  },
  {
   "cell_type": "code",
   "execution_count": 9,
   "metadata": {},
   "outputs": [
    {
     "data": {
      "text/plain": [
       "array([ 13,  14,  13,  12,  10,  13,  11,  12,  13,  10,  13,  10,  12,\n",
       "       100,  13])"
      ]
     },
     "execution_count": 9,
     "metadata": {},
     "output_type": "execute_result"
    }
   ],
   "source": [
    "ar[-1::-1]"
   ]
  },
  {
   "cell_type": "code",
   "execution_count": 13,
   "metadata": {},
   "outputs": [
    {
     "name": "stdout",
     "output_type": "stream",
     "text": [
      "[[0.16000941 0.93007271 0.39304265 0.29362922 0.39674974]\n",
      " [0.06419078 0.1347878  0.36219531 0.12331878 0.05255706]\n",
      " [0.9967689  0.51729308 0.60836842 0.89442439 0.24224764]]\n"
     ]
    },
    {
     "data": {
      "text/plain": [
       "array([0.06419078, 0.51729308])"
      ]
     },
     "execution_count": 13,
     "metadata": {},
     "output_type": "execute_result"
    }
   ],
   "source": [
    "ar=np.random.random([3,5])\n",
    "print(ar)\n",
    "ar[[1,2],[0,1]]"
   ]
  },
  {
   "cell_type": "code",
   "execution_count": 14,
   "metadata": {},
   "outputs": [
    {
     "name": "stdout",
     "output_type": "stream",
     "text": [
      "[0 1 2 3 4 5 6 7 8]\n",
      "[10 12 14 16 18 20 22 24 26 28]\n",
      "[[0 1 2]\n",
      " [3 4 5]\n",
      " [6 7 8]]\n",
      "[[10 12 14]\n",
      " [16 18 20]\n",
      " [22 24 26]]\n"
     ]
    },
    {
     "data": {
      "text/plain": [
       "array([[ 0,  1,  2, 10, 12, 14],\n",
       "       [ 3,  4,  5, 16, 18, 20],\n",
       "       [ 6,  7,  8, 22, 24, 26]])"
      ]
     },
     "execution_count": 14,
     "metadata": {},
     "output_type": "execute_result"
    }
   ],
   "source": [
    "a=np.arange(0,9)\n",
    "b=np. arange(10,30,2)\n",
    "print (a,b,sep='\\n')\n",
    "a.resize(3,3)\n",
    "b.resize(3,3)\n",
    "print(a, b,sep='\\n')\n",
    "np.hstack([a,b])"
   ]
  },
  {
   "cell_type": "code",
   "execution_count": 15,
   "metadata": {},
   "outputs": [
    {
     "data": {
      "text/plain": [
       "array([[ 0,  1,  2],\n",
       "       [ 3,  4,  5],\n",
       "       [ 6,  7,  8],\n",
       "       [10, 12, 14],\n",
       "       [16, 18, 20],\n",
       "       [22, 24, 26]])"
      ]
     },
     "execution_count": 15,
     "metadata": {},
     "output_type": "execute_result"
    }
   ],
   "source": [
    "np.vstack([a,b])"
   ]
  },
  {
   "cell_type": "code",
   "execution_count": 16,
   "metadata": {},
   "outputs": [
    {
     "name": "stdout",
     "output_type": "stream",
     "text": [
      "请输入你的姓名以查询你的考试成绩:rose\n",
      "rose 同学的考试成绩为: 86\n"
     ]
    }
   ],
   "source": [
    "names=np.array(['mary','ton','ketty','nike','lily','rose'])\n",
    "grades=np. array([80,95,50,70,65,86])\n",
    "name=input(\"请输入你的姓名以查询你的考试成绩:\")\n",
    "names==name\n",
    "print(name,\"同学的考试成绩为:\",*grades[names==name])"
   ]
  },
  {
   "cell_type": "code",
   "execution_count": 18,
   "metadata": {},
   "outputs": [
    {
     "name": "stdout",
     "output_type": "stream",
     "text": [
      "mary ton ketty nike lily rose\n",
      "['mary' 'ton' 'ketty' 'nike' 'lily' 'rose']\n"
     ]
    }
   ],
   "source": [
    "print(*names)\n",
    "print(names)"
   ]
  },
  {
   "cell_type": "code",
   "execution_count": 19,
   "metadata": {},
   "outputs": [
    {
     "data": {
      "text/plain": [
       "(95, 50, 74.33333333333333, 75.0)"
      ]
     },
     "execution_count": 19,
     "metadata": {},
     "output_type": "execute_result"
    }
   ],
   "source": [
    "np.max(grades),np.min(grades),np.mean(grades),np.median(grades)"
   ]
  },
  {
   "cell_type": "code",
   "execution_count": 20,
   "metadata": {},
   "outputs": [
    {
     "data": {
      "text/plain": [
       "array(['通过', '通过', '不通过', '通过', '通过', '通过'], dtype='<U3')"
      ]
     },
     "execution_count": 20,
     "metadata": {},
     "output_type": "execute_result"
    }
   ],
   "source": [
    "level=np.where(grades>=60,\"通过\",\"不通过\")\n",
    "level"
   ]
  },
  {
   "cell_type": "code",
   "execution_count": 21,
   "metadata": {},
   "outputs": [],
   "source": [
    "x=np.load('C:/Users/52335/Desktop/00/学习/python/其他文件/isrs.npy',allow_pickle=True)"
   ]
  },
  {
   "cell_type": "code",
   "execution_count": 22,
   "metadata": {
    "scrolled": false
   },
   "outputs": [
    {
     "name": "stdout",
     "output_type": "stream",
     "text": [
      "[[5.1 3.5 1.4 0.2 'Iris-setosa']\n",
      " [4.9 3.0 1.4 0.2 'Iris-setosa']\n",
      " [4.7 3.2 1.3 0.2 'Iris-setosa']\n",
      " [4.6 3.1 1.5 0.2 'Iris-setosa']\n",
      " [5.0 3.6 1.4 0.2 'Iris-setosa']\n",
      " [5.4 3.9 1.7 0.4 'Iris-setosa']\n",
      " [4.6 3.4 1.4 0.3 'Iris-setosa']\n",
      " [5.0 3.4 1.5 0.2 'Iris-setosa']\n",
      " [4.4 2.9 1.4 0.2 'Iris-setosa']\n",
      " [4.9 3.1 1.5 0.1 'Iris-setosa']\n",
      " [5.4 3.7 1.5 0.2 'Iris-setosa']\n",
      " [4.8 3.4 1.6 0.2 'Iris-setosa']\n",
      " [4.8 3.0 1.4 0.1 'Iris-setosa']\n",
      " [4.3 3.0 1.1 0.1 'Iris-setosa']\n",
      " [5.8 4.0 1.2 0.2 'Iris-setosa']\n",
      " [5.7 4.4 1.5 0.4 'Iris-setosa']\n",
      " [5.4 3.9 1.3 0.4 'Iris-setosa']\n",
      " [5.1 3.5 1.4 0.3 'Iris-setosa']\n",
      " [5.7 3.8 1.7 0.3 'Iris-setosa']\n",
      " [5.1 3.8 1.5 0.3 'Iris-setosa']\n",
      " [5.4 3.4 1.7 0.2 'Iris-setosa']\n",
      " [5.1 3.7 1.5 0.4 'Iris-setosa']\n",
      " [4.6 3.6 1.0 0.2 'Iris-setosa']\n",
      " [5.1 3.3 1.7 0.5 'Iris-setosa']\n",
      " [4.8 3.4 1.9 0.2 'Iris-setosa']\n",
      " [5.0 3.0 1.6 0.2 'Iris-setosa']\n",
      " [5.0 3.4 1.6 0.4 'Iris-setosa']\n",
      " [5.2 3.5 1.5 0.2 'Iris-setosa']\n",
      " [5.2 3.4 1.4 0.2 'Iris-setosa']\n",
      " [4.7 3.2 1.6 0.2 'Iris-setosa']\n",
      " [4.8 3.1 1.6 0.2 'Iris-setosa']\n",
      " [5.4 3.4 1.5 0.4 'Iris-setosa']\n",
      " [5.2 4.1 1.5 0.1 'Iris-setosa']\n",
      " [5.5 4.2 1.4 0.2 'Iris-setosa']\n",
      " [4.9 3.1 1.5 0.1 'Iris-setosa']\n",
      " [5.0 3.2 1.2 0.2 'Iris-setosa']\n",
      " [5.5 3.5 1.3 0.2 'Iris-setosa']\n",
      " [4.9 3.1 1.5 0.1 'Iris-setosa']\n",
      " [4.4 3.0 1.3 0.2 'Iris-setosa']\n",
      " [5.1 3.4 1.5 0.2 'Iris-setosa']\n",
      " [5.0 3.5 1.3 0.3 'Iris-setosa']\n",
      " [4.5 2.3 1.3 0.3 'Iris-setosa']\n",
      " [4.4 3.2 1.3 0.2 'Iris-setosa']\n",
      " [5.0 3.5 1.6 0.6 'Iris-setosa']\n",
      " [5.1 3.8 1.9 0.4 'Iris-setosa']\n",
      " [4.8 3.0 1.4 0.3 'Iris-setosa']\n",
      " [5.1 3.8 1.6 0.2 'Iris-setosa']\n",
      " [4.6 3.2 1.4 0.2 'Iris-setosa']\n",
      " [5.3 3.7 1.5 0.2 'Iris-setosa']\n",
      " [5.0 3.3 1.4 0.2 'Iris-setosa']\n",
      " [7.0 3.2 4.7 1.4 'Iris-versicolor']\n",
      " [6.4 3.2 4.5 1.5 'Iris-versicolor']\n",
      " [6.9 3.1 4.9 1.5 'Iris-versicolor']\n",
      " [5.5 2.3 4.0 1.3 'Iris-versicolor']\n",
      " [6.5 2.8 4.6 1.5 'Iris-versicolor']\n",
      " [5.7 2.8 4.5 1.3 'Iris-versicolor']\n",
      " [6.3 3.3 4.7 1.6 'Iris-versicolor']\n",
      " [4.9 2.4 3.3 1.0 'Iris-versicolor']\n",
      " [6.6 2.9 4.6 1.3 'Iris-versicolor']\n",
      " [5.2 2.7 3.9 1.4 'Iris-versicolor']\n",
      " [5.0 2.0 3.5 1.0 'Iris-versicolor']\n",
      " [5.9 3.0 4.2 1.5 'Iris-versicolor']\n",
      " [6.0 2.2 4.0 1.0 'Iris-versicolor']\n",
      " [6.1 2.9 4.7 1.4 'Iris-versicolor']\n",
      " [5.6 2.9 3.6 1.3 'Iris-versicolor']\n",
      " [6.7 3.1 4.4 1.4 'Iris-versicolor']\n",
      " [5.6 3.0 4.5 1.5 'Iris-versicolor']\n",
      " [5.8 2.7 4.1 1.0 'Iris-versicolor']\n",
      " [6.2 2.2 4.5 1.5 'Iris-versicolor']\n",
      " [5.6 2.5 3.9 1.1 'Iris-versicolor']\n",
      " [5.9 3.2 4.8 1.8 'Iris-versicolor']\n",
      " [6.1 2.8 4.0 1.3 'Iris-versicolor']\n",
      " [6.3 2.5 4.9 1.5 'Iris-versicolor']\n",
      " [6.1 2.8 4.7 1.2 'Iris-versicolor']\n",
      " [6.4 2.9 4.3 1.3 'Iris-versicolor']\n",
      " [6.6 3.0 4.4 1.4 'Iris-versicolor']\n",
      " [6.8 2.8 4.8 1.4 'Iris-versicolor']\n",
      " [6.7 3.0 5.0 1.7 'Iris-versicolor']\n",
      " [6.0 2.9 4.5 1.5 'Iris-versicolor']\n",
      " [5.7 2.6 3.5 1.0 'Iris-versicolor']\n",
      " [5.5 2.4 3.8 1.1 'Iris-versicolor']\n",
      " [5.5 2.4 3.7 1.0 'Iris-versicolor']\n",
      " [5.8 2.7 3.9 1.2 'Iris-versicolor']\n",
      " [6.0 2.7 5.1 1.6 'Iris-versicolor']\n",
      " [5.4 3.0 4.5 1.5 'Iris-versicolor']\n",
      " [6.0 3.4 4.5 1.6 'Iris-versicolor']\n",
      " [6.7 3.1 4.7 1.5 'Iris-versicolor']\n",
      " [6.3 2.3 4.4 1.3 'Iris-versicolor']\n",
      " [5.6 3.0 4.1 1.3 'Iris-versicolor']\n",
      " [5.5 2.5 4.0 1.3 'Iris-versicolor']\n",
      " [5.5 2.6 4.4 1.2 'Iris-versicolor']\n",
      " [6.1 3.0 4.6 1.4 'Iris-versicolor']\n",
      " [5.8 2.6 4.0 1.2 'Iris-versicolor']\n",
      " [5.0 2.3 3.3 1.0 'Iris-versicolor']\n",
      " [5.6 2.7 4.2 1.3 'Iris-versicolor']\n",
      " [5.7 3.0 4.2 1.2 'Iris-versicolor']\n",
      " [5.7 2.9 4.2 1.3 'Iris-versicolor']\n",
      " [6.2 2.9 4.3 1.3 'Iris-versicolor']\n",
      " [5.1 2.5 3.0 1.1 'Iris-versicolor']\n",
      " [5.7 2.8 4.1 1.3 'Iris-versicolor']\n",
      " [6.3 3.3 6.0 2.5 'Iris-virginica']\n",
      " [5.8 2.7 5.1 1.9 'Iris-virginica']\n",
      " [7.1 3.0 5.9 2.1 'Iris-virginica']\n",
      " [6.3 2.9 5.6 1.8 'Iris-virginica']\n",
      " [6.5 3.0 5.8 2.2 'Iris-virginica']\n",
      " [7.6 3.0 6.6 2.1 'Iris-virginica']\n",
      " [4.9 2.5 4.5 1.7 'Iris-virginica']\n",
      " [7.3 2.9 6.3 1.8 'Iris-virginica']\n",
      " [6.7 2.5 5.8 1.8 'Iris-virginica']\n",
      " [7.2 3.6 6.1 2.5 'Iris-virginica']\n",
      " [6.5 3.2 5.1 2.0 'Iris-virginica']\n",
      " [6.4 2.7 5.3 1.9 'Iris-virginica']\n",
      " [6.8 3.0 5.5 2.1 'Iris-virginica']\n",
      " [5.7 2.5 5.0 2.0 'Iris-virginica']\n",
      " [5.8 2.8 5.1 2.4 'Iris-virginica']\n",
      " [6.4 3.2 5.3 2.3 'Iris-virginica']\n",
      " [6.5 3.0 5.5 1.8 'Iris-virginica']\n",
      " [7.7 3.8 6.7 2.2 'Iris-virginica']\n",
      " [7.7 2.6 6.9 2.3 'Iris-virginica']\n",
      " [6.0 2.2 5.0 1.5 'Iris-virginica']\n",
      " [6.9 3.2 5.7 2.3 'Iris-virginica']\n",
      " [5.6 2.8 4.9 2.0 'Iris-virginica']\n",
      " [7.7 2.8 6.7 2.0 'Iris-virginica']\n",
      " [6.3 2.7 4.9 1.8 'Iris-virginica']\n",
      " [6.7 3.3 5.7 2.1 'Iris-virginica']\n",
      " [7.2 3.2 6.0 1.8 'Iris-virginica']\n",
      " [6.2 2.8 4.8 1.8 'Iris-virginica']\n",
      " [6.1 3.0 4.9 1.8 'Iris-virginica']\n",
      " [6.4 2.8 5.6 2.1 'Iris-virginica']\n",
      " [7.2 3.0 5.8 1.6 'Iris-virginica']\n",
      " [7.4 2.8 6.1 1.9 'Iris-virginica']\n",
      " [7.9 3.8 6.4 2.0 'Iris-virginica']\n",
      " [6.4 2.8 5.6 2.2 'Iris-virginica']\n",
      " [6.3 2.8 5.1 1.5 'Iris-virginica']\n",
      " [6.1 2.6 5.6 1.4 'Iris-virginica']\n",
      " [7.7 3.0 6.1 2.3 'Iris-virginica']\n",
      " [6.3 3.4 5.6 2.4 'Iris-virginica']\n",
      " [6.4 3.1 5.5 1.8 'Iris-virginica']\n",
      " [6.0 3.0 4.8 1.8 'Iris-virginica']\n",
      " [6.9 3.1 5.4 2.1 'Iris-virginica']\n",
      " [6.7 3.1 5.6 2.4 'Iris-virginica']\n",
      " [6.9 3.1 5.1 2.3 'Iris-virginica']\n",
      " [5.8 2.7 5.1 1.9 'Iris-virginica']\n",
      " [6.8 3.2 5.9 2.3 'Iris-virginica']\n",
      " [6.7 3.3 5.7 2.5 'Iris-virginica']\n",
      " [6.7 3.0 5.2 2.3 'Iris-virginica']\n",
      " [6.3 2.5 5.0 1.9 'Iris-virginica']\n",
      " [6.5 3.0 5.2 2.0 'Iris-virginica']\n",
      " [6.2 3.4 5.4 2.3 'Iris-virginica']\n",
      " [5.9 3.0 5.1 1.8 'Iris-virginica']]\n",
      "2 750 (150, 5)\n"
     ]
    }
   ],
   "source": [
    "print(x)\n",
    "print(x.ndim,x.size,x.shape)"
   ]
  },
  {
   "cell_type": "code",
   "execution_count": 7,
   "metadata": {},
   "outputs": [
    {
     "name": "stdout",
     "output_type": "stream",
     "text": [
      "['Iris-setosa' 'Iris-versicolor' 'Iris-virginica']\n"
     ]
    }
   ],
   "source": [
    "print( np.unique( x[:,-1] ) )"
   ]
  },
  {
   "cell_type": "code",
   "execution_count": 23,
   "metadata": {},
   "outputs": [
    {
     "name": "stdout",
     "output_type": "stream",
     "text": [
      "['Iris-setosa' 'Iris-versicolor' 'Iris-virginica']\n"
     ]
    }
   ],
   "source": [
    "print( np.unique( x[:,-1] ) )"
   ]
  },
  {
   "cell_type": "code",
   "execution_count": 24,
   "metadata": {},
   "outputs": [
    {
     "name": "stdout",
     "output_type": "stream",
     "text": [
      "[[5.1 3.5 1.4 0.2]\n",
      " [4.9 3.0 1.4 0.2]\n",
      " [4.7 3.2 1.3 0.2]\n",
      " [4.6 3.1 1.5 0.2]\n",
      " [5.0 3.6 1.4 0.2]\n",
      " [5.4 3.9 1.7 0.4]\n",
      " [4.6 3.4 1.4 0.3]\n",
      " [5.0 3.4 1.5 0.2]\n",
      " [4.4 2.9 1.4 0.2]\n",
      " [4.9 3.1 1.5 0.1]\n",
      " [5.4 3.7 1.5 0.2]\n",
      " [4.8 3.4 1.6 0.2]\n",
      " [4.8 3.0 1.4 0.1]\n",
      " [4.3 3.0 1.1 0.1]\n",
      " [5.8 4.0 1.2 0.2]\n",
      " [5.7 4.4 1.5 0.4]\n",
      " [5.4 3.9 1.3 0.4]\n",
      " [5.1 3.5 1.4 0.3]\n",
      " [5.7 3.8 1.7 0.3]\n",
      " [5.1 3.8 1.5 0.3]\n",
      " [5.4 3.4 1.7 0.2]\n",
      " [5.1 3.7 1.5 0.4]\n",
      " [4.6 3.6 1.0 0.2]\n",
      " [5.1 3.3 1.7 0.5]\n",
      " [4.8 3.4 1.9 0.2]\n",
      " [5.0 3.0 1.6 0.2]\n",
      " [5.0 3.4 1.6 0.4]\n",
      " [5.2 3.5 1.5 0.2]\n",
      " [5.2 3.4 1.4 0.2]\n",
      " [4.7 3.2 1.6 0.2]\n",
      " [4.8 3.1 1.6 0.2]\n",
      " [5.4 3.4 1.5 0.4]\n",
      " [5.2 4.1 1.5 0.1]\n",
      " [5.5 4.2 1.4 0.2]\n",
      " [4.9 3.1 1.5 0.1]\n",
      " [5.0 3.2 1.2 0.2]\n",
      " [5.5 3.5 1.3 0.2]\n",
      " [4.9 3.1 1.5 0.1]\n",
      " [4.4 3.0 1.3 0.2]\n",
      " [5.1 3.4 1.5 0.2]\n",
      " [5.0 3.5 1.3 0.3]\n",
      " [4.5 2.3 1.3 0.3]\n",
      " [4.4 3.2 1.3 0.2]\n",
      " [5.0 3.5 1.6 0.6]\n",
      " [5.1 3.8 1.9 0.4]\n",
      " [4.8 3.0 1.4 0.3]\n",
      " [5.1 3.8 1.6 0.2]\n",
      " [4.6 3.2 1.4 0.2]\n",
      " [5.3 3.7 1.5 0.2]\n",
      " [5.0 3.3 1.4 0.2]\n",
      " [7.0 3.2 4.7 1.4]\n",
      " [6.4 3.2 4.5 1.5]\n",
      " [6.9 3.1 4.9 1.5]\n",
      " [5.5 2.3 4.0 1.3]\n",
      " [6.5 2.8 4.6 1.5]\n",
      " [5.7 2.8 4.5 1.3]\n",
      " [6.3 3.3 4.7 1.6]\n",
      " [4.9 2.4 3.3 1.0]\n",
      " [6.6 2.9 4.6 1.3]\n",
      " [5.2 2.7 3.9 1.4]\n",
      " [5.0 2.0 3.5 1.0]\n",
      " [5.9 3.0 4.2 1.5]\n",
      " [6.0 2.2 4.0 1.0]\n",
      " [6.1 2.9 4.7 1.4]\n",
      " [5.6 2.9 3.6 1.3]\n",
      " [6.7 3.1 4.4 1.4]\n",
      " [5.6 3.0 4.5 1.5]\n",
      " [5.8 2.7 4.1 1.0]\n",
      " [6.2 2.2 4.5 1.5]\n",
      " [5.6 2.5 3.9 1.1]\n",
      " [5.9 3.2 4.8 1.8]\n",
      " [6.1 2.8 4.0 1.3]\n",
      " [6.3 2.5 4.9 1.5]\n",
      " [6.1 2.8 4.7 1.2]\n",
      " [6.4 2.9 4.3 1.3]\n",
      " [6.6 3.0 4.4 1.4]\n",
      " [6.8 2.8 4.8 1.4]\n",
      " [6.7 3.0 5.0 1.7]\n",
      " [6.0 2.9 4.5 1.5]\n",
      " [5.7 2.6 3.5 1.0]\n",
      " [5.5 2.4 3.8 1.1]\n",
      " [5.5 2.4 3.7 1.0]\n",
      " [5.8 2.7 3.9 1.2]\n",
      " [6.0 2.7 5.1 1.6]\n",
      " [5.4 3.0 4.5 1.5]\n",
      " [6.0 3.4 4.5 1.6]\n",
      " [6.7 3.1 4.7 1.5]\n",
      " [6.3 2.3 4.4 1.3]\n",
      " [5.6 3.0 4.1 1.3]\n",
      " [5.5 2.5 4.0 1.3]\n",
      " [5.5 2.6 4.4 1.2]\n",
      " [6.1 3.0 4.6 1.4]\n",
      " [5.8 2.6 4.0 1.2]\n",
      " [5.0 2.3 3.3 1.0]\n",
      " [5.6 2.7 4.2 1.3]\n",
      " [5.7 3.0 4.2 1.2]\n",
      " [5.7 2.9 4.2 1.3]\n",
      " [6.2 2.9 4.3 1.3]\n",
      " [5.1 2.5 3.0 1.1]\n",
      " [5.7 2.8 4.1 1.3]\n",
      " [6.3 3.3 6.0 2.5]\n",
      " [5.8 2.7 5.1 1.9]\n",
      " [7.1 3.0 5.9 2.1]\n",
      " [6.3 2.9 5.6 1.8]\n",
      " [6.5 3.0 5.8 2.2]\n",
      " [7.6 3.0 6.6 2.1]\n",
      " [4.9 2.5 4.5 1.7]\n",
      " [7.3 2.9 6.3 1.8]\n",
      " [6.7 2.5 5.8 1.8]\n",
      " [7.2 3.6 6.1 2.5]\n",
      " [6.5 3.2 5.1 2.0]\n",
      " [6.4 2.7 5.3 1.9]\n",
      " [6.8 3.0 5.5 2.1]\n",
      " [5.7 2.5 5.0 2.0]\n",
      " [5.8 2.8 5.1 2.4]\n",
      " [6.4 3.2 5.3 2.3]\n",
      " [6.5 3.0 5.5 1.8]\n",
      " [7.7 3.8 6.7 2.2]\n",
      " [7.7 2.6 6.9 2.3]\n",
      " [6.0 2.2 5.0 1.5]\n",
      " [6.9 3.2 5.7 2.3]\n",
      " [5.6 2.8 4.9 2.0]\n",
      " [7.7 2.8 6.7 2.0]\n",
      " [6.3 2.7 4.9 1.8]\n",
      " [6.7 3.3 5.7 2.1]\n",
      " [7.2 3.2 6.0 1.8]\n",
      " [6.2 2.8 4.8 1.8]\n",
      " [6.1 3.0 4.9 1.8]\n",
      " [6.4 2.8 5.6 2.1]\n",
      " [7.2 3.0 5.8 1.6]\n",
      " [7.4 2.8 6.1 1.9]\n",
      " [7.9 3.8 6.4 2.0]\n",
      " [6.4 2.8 5.6 2.2]\n",
      " [6.3 2.8 5.1 1.5]\n",
      " [6.1 2.6 5.6 1.4]\n",
      " [7.7 3.0 6.1 2.3]\n",
      " [6.3 3.4 5.6 2.4]\n",
      " [6.4 3.1 5.5 1.8]\n",
      " [6.0 3.0 4.8 1.8]\n",
      " [6.9 3.1 5.4 2.1]\n",
      " [6.7 3.1 5.6 2.4]\n",
      " [6.9 3.1 5.1 2.3]\n",
      " [5.8 2.7 5.1 1.9]\n",
      " [6.8 3.2 5.9 2.3]\n",
      " [6.7 3.3 5.7 2.5]\n",
      " [6.7 3.0 5.2 2.3]\n",
      " [6.3 2.5 5.0 1.9]\n",
      " [6.5 3.0 5.2 2.0]\n",
      " [6.2 3.4 5.4 2.3]\n",
      " [5.9 3.0 5.1 1.8]]\n"
     ]
    }
   ],
   "source": [
    "data,flowers=x[:,:-1],x[:,-1]\n",
    "print(data)"
   ]
  },
  {
   "cell_type": "code",
   "execution_count": 25,
   "metadata": {},
   "outputs": [
    {
     "data": {
      "text/plain": [
       "array([7.9, 4.4, 6.9, 2.5], dtype=object)"
      ]
     },
     "execution_count": 25,
     "metadata": {},
     "output_type": "execute_result"
    }
   ],
   "source": [
    "np.max(data,axis=0)"
   ]
  },
  {
   "cell_type": "code",
   "execution_count": 26,
   "metadata": {},
   "outputs": [
    {
     "name": "stdout",
     "output_type": "stream",
     "text": [
      "Setosa 50\n",
      "Versicolor 50\n",
      "Virginica 50\n"
     ]
    }
   ],
   "source": [
    "print('Setosa',np.sum(flowers=='Iris-setosa'))\n",
    "print('Versicolor',np.sum(flowers=='Iris-versicolor'))\n",
    "print('Virginica',np.sum(flowers=='Iris-virginica') )"
   ]
  },
  {
   "cell_type": "code",
   "execution_count": 27,
   "metadata": {},
   "outputs": [
    {
     "name": "stdout",
     "output_type": "stream",
     "text": [
      "Iris-setosa\n",
      "  max   [5.8 4.4 1.9 0.6]\n",
      "  min   [4.3 2.3 1.0 0.1]\n",
      "median  [5.0 3.4 1.5 0.2]\n",
      "Iris-versicolor\n",
      "  max   [7.0 3.4 5.1 1.8]\n",
      "  min   [4.9 2.0 3.0 1.0]\n",
      "median  [5.9 2.8 4.35 1.3]\n",
      "Iris-virginica\n",
      "  max   [7.9 3.8 6.9 2.5]\n",
      "  min   [4.9 2.2 4.5 1.4]\n",
      "median  [6.5 3.0 5.55 2.0]\n"
     ]
    }
   ],
   "source": [
    "for i in np.unique(flowers):\n",
    "    print(i)\n",
    "    datai=data[flowers==i]\n",
    "    print(\"{:^7s}\".format('max'),np.max(datai,axis=0))\n",
    "    print(\"{:^7s}\".format('min'),np.min(datai,axis=0))\n",
    "    print(\"{:^7s}\".format('median'),np.median(datai,axis=0))"
   ]
  },
  {
   "cell_type": "code",
   "execution_count": 28,
   "metadata": {},
   "outputs": [
    {
     "data": {
      "text/plain": [
       "array([['安徼', 59500468, 61027171],\n",
       "       ['北京', 19612368, 21893095],\n",
       "       ['福建', 36894217, 41540086],\n",
       "       ['甘肃', 25575263, 25019831],\n",
       "       ['广东', 104320459, 126012510],\n",
       "       ['广西', 46023761, 50126804],\n",
       "       ['贵州', 34748556, 38562148],\n",
       "       ['海南', 8671485, 10081232],\n",
       "       ['河北', 71854210, 74610235],\n",
       "       ['河南', 94029939, 99365519],\n",
       "       ['黑龙江', 38313991, 31350088],\n",
       "       ['湖北', 57237727, 57752557],\n",
       "       ['湖南', 65700762, 66444864],\n",
       "       ['吉林', 27452815, 24073453],\n",
       "       ['江苏', 78660941, 84748016],\n",
       "       ['江西', 44567797, 45188635],\n",
       "       ['辽宁', 43746323, 42591407],\n",
       "       ['内蒙古', 24706291, 24049155],\n",
       "       ['宁夏', 6301350, 7202654],\n",
       "       ['青海', 5626723, 5923957],\n",
       "       ['山东', 95792719, 101527453],\n",
       "       ['山西', 35712101, 34915616],\n",
       "       ['陕西', 37327379, 39528999],\n",
       "       ['上海', 23019196, 24870895],\n",
       "       ['四川', 80417528, 83674366],\n",
       "       ['天津', 12938693, 13866009],\n",
       "       ['西藏', 3002165, 3648100],\n",
       "       ['新疆', 21815815, 25852345],\n",
       "       ['云南', 45966766, 47209277],\n",
       "       ['浙江', 54426891, 64567588],\n",
       "       ['重庆', 28846170, 32054159]], dtype=object)"
      ]
     },
     "execution_count": 28,
     "metadata": {},
     "output_type": "execute_result"
    }
   ],
   "source": [
    "ar=np.load('C:/Users/52335/Desktop/00/学习/python/其他文件/popu.npy',allow_pickle=True)\n",
    "ar"
   ]
  },
  {
   "cell_type": "code",
   "execution_count": 29,
   "metadata": {},
   "outputs": [
    {
     "data": {
      "text/plain": [
       "array([13.32810869, 14.09278224], dtype=object)"
      ]
     },
     "execution_count": 29,
     "metadata": {},
     "output_type": "execute_result"
    }
   ],
   "source": [
    "ar[:,1:].sum(axis=0)/100000000"
   ]
  },
  {
   "cell_type": "code",
   "execution_count": 18,
   "metadata": {},
   "outputs": [
    {
     "name": "stdout",
     "output_type": "stream",
     "text": [
      "['广东' 104320459 126012510]\n",
      "['山东' 95792719 101527453]\n",
      "['河南' 94029939 99365519]\n",
      "['四川' 80417528 83674366]\n",
      "['江苏' 78660941 84748016]\n",
      "['河北' 71854210 74610235]\n",
      "['湖南' 65700762 66444864]\n",
      "['安徼' 59500468 61027171]\n",
      "['湖北' 57237727 57752557]\n",
      "['浙江' 54426891 64567588]\n",
      "['广西' 46023761 50126804]\n",
      "['云南' 45966766 47209277]\n",
      "['江西' 44567797 45188635]\n",
      "['辽宁' 43746323 42591407]\n",
      "['黑龙江' 38313991 31350088]\n",
      "['陕西' 37327379 39528999]\n",
      "['福建' 36894217 41540086]\n",
      "['山西' 35712101 34915616]\n",
      "['贵州' 34748556 38562148]\n",
      "['重庆' 28846170 32054159]\n",
      "['吉林' 27452815 24073453]\n",
      "['甘肃' 25575263 25019831]\n",
      "['内蒙古' 24706291 24049155]\n",
      "['上海' 23019196 24870895]\n",
      "['新疆' 21815815 25852345]\n",
      "['北京' 19612368 21893095]\n",
      "['天津' 12938693 13866009]\n",
      "['海南' 8671485 10081232]\n",
      "['宁夏' 6301350 7202654]\n",
      "['青海' 5626723 5923957]\n",
      "['西藏' 3002165 3648100]\n"
     ]
    }
   ],
   "source": [
    "for i in sorted(ar,key=lambda x:x[1],reverse=True):\n",
    "    print(i)"
   ]
  },
  {
   "cell_type": "code",
   "execution_count": 20,
   "metadata": {},
   "outputs": [
    {
     "name": "stdout",
     "output_type": "stream",
     "text": [
      "['广东' 104320459 126012510]\n",
      "['山东' 95792719 101527453]\n",
      "['河南' 94029939 99365519]\n",
      "['江苏' 78660941 84748016]\n",
      "['四川' 80417528 83674366]\n",
      "['河北' 71854210 74610235]\n",
      "['湖南' 65700762 66444864]\n",
      "['浙江' 54426891 64567588]\n",
      "['安徼' 59500468 61027171]\n",
      "['湖北' 57237727 57752557]\n",
      "['广西' 46023761 50126804]\n",
      "['云南' 45966766 47209277]\n",
      "['江西' 44567797 45188635]\n",
      "['辽宁' 43746323 42591407]\n",
      "['福建' 36894217 41540086]\n",
      "['陕西' 37327379 39528999]\n",
      "['贵州' 34748556 38562148]\n",
      "['山西' 35712101 34915616]\n",
      "['重庆' 28846170 32054159]\n",
      "['黑龙江' 38313991 31350088]\n",
      "['新疆' 21815815 25852345]\n",
      "['甘肃' 25575263 25019831]\n",
      "['上海' 23019196 24870895]\n",
      "['吉林' 27452815 24073453]\n",
      "['内蒙古' 24706291 24049155]\n",
      "['北京' 19612368 21893095]\n",
      "['天津' 12938693 13866009]\n",
      "['海南' 8671485 10081232]\n",
      "['宁夏' 6301350 7202654]\n",
      "['青海' 5626723 5923957]\n",
      "['西藏' 3002165 3648100]\n"
     ]
    }
   ],
   "source": [
    "for i in sorted(ar,key=lambda x:x[2],reverse=True):\n",
    "    print(i)\n"
   ]
  },
  {
   "cell_type": "code",
   "execution_count": 30,
   "metadata": {},
   "outputs": [
    {
     "data": {
      "text/plain": [
       "array([152.6703, 228.0727, 464.5869, -55.5432, 2169.2051, 410.3043,\n",
       "       381.3592, 140.9747, 275.6025, 533.558, -696.3903, 51.483, 74.4102,\n",
       "       -337.9362, 608.7075, 62.0838, -115.4916, -65.7136, 90.1304,\n",
       "       29.7234, 573.4734, -79.6485, 220.162, 185.1699, 325.6838, 92.7316,\n",
       "       64.5935, 403.653, 124.2511, 1014.0697, 320.7989], dtype=object)"
      ]
     },
     "execution_count": 30,
     "metadata": {},
     "output_type": "execute_result"
    }
   ],
   "source": [
    "gt=(ar[:,2]-ar[:,1])/10000\n",
    "gt"
   ]
  },
  {
   "cell_type": "code",
   "execution_count": 31,
   "metadata": {},
   "outputs": [
    {
     "data": {
      "text/plain": [
       "array([[152.6703],\n",
       "       [228.0727],\n",
       "       [464.5869],\n",
       "       [-55.5432],\n",
       "       [2169.2051],\n",
       "       [410.3043],\n",
       "       [381.3592],\n",
       "       [140.9747],\n",
       "       [275.6025],\n",
       "       [533.558],\n",
       "       [-696.3903],\n",
       "       [51.483],\n",
       "       [74.4102],\n",
       "       [-337.9362],\n",
       "       [608.7075],\n",
       "       [62.0838],\n",
       "       [-115.4916],\n",
       "       [-65.7136],\n",
       "       [90.1304],\n",
       "       [29.7234],\n",
       "       [573.4734],\n",
       "       [-79.6485],\n",
       "       [220.162],\n",
       "       [185.1699],\n",
       "       [325.6838],\n",
       "       [92.7316],\n",
       "       [64.5935],\n",
       "       [403.653],\n",
       "       [124.2511],\n",
       "       [1014.0697],\n",
       "       [320.7989]], dtype=object)"
      ]
     },
     "execution_count": 31,
     "metadata": {},
     "output_type": "execute_result"
    }
   ],
   "source": [
    "ar1 = gt.reshape(31,1)\n",
    "ar1"
   ]
  },
  {
   "cell_type": "code",
   "execution_count": 32,
   "metadata": {},
   "outputs": [
    {
     "data": {
      "text/plain": [
       "array([['安徼', 59500468, 61027171, 152.6703, 2.565867213010829],\n",
       "       ['北京', 19612368, 21893095, 228.0727, 11.629024093368022],\n",
       "       ['福建', 36894217, 41540086, 464.5869, 12.592404386844692],\n",
       "       ['甘肃', 25575263, 25019831, -55.5432, -2.171754792902814],\n",
       "       ['广东', 104320459, 126012510, 2169.2051, 20.7936690539293],\n",
       "       ['广西', 46023761, 50126804, 410.3043, 8.915053682813971],\n",
       "       ['贵州', 34748556, 38562148, 381.3592, 10.974821514885395],\n",
       "       ['海南', 8671485, 10081232, 140.9747, 16.25727311988662],\n",
       "       ['河北', 71854210, 74610235, 275.6025, 3.8355790147856337],\n",
       "       ['河南', 94029939, 99365519, 533.558, 5.674341658352028],\n",
       "       ['黑龙江', 38313991, 31350088, -696.3903, -18.17587470853663],\n",
       "       ['湖北', 57237727, 57752557, 51.483, 0.8994591976023086],\n",
       "       ['湖南', 65700762, 66444864, 74.4102, 1.1325622068127612],\n",
       "       ['吉林', 27452815, 24073453, -337.9362, -12.309710315681652],\n",
       "       ['江苏', 78660941, 84748016, 608.7075, 7.738370432156411],\n",
       "       ['江西', 44567797, 45188635, 62.0838, 1.3930192690475591],\n",
       "       ['辽宁', 43746323, 42591407, -115.4916, -2.6400298831972693],\n",
       "       ['内蒙古', 24706291, 24049155, -65.7136, -2.6597921962466966],\n",
       "       ['宁夏', 6301350, 7202654, 90.1304, 14.303347695335125],\n",
       "       ['青海', 5626723, 5923957, 29.7234, 5.282541898721512],\n",
       "       ['山东', 95792719, 101527453, 573.4734, 5.986607395495267],\n",
       "       ['山西', 35712101, 34915616, -79.6485, -2.2302944315709676],\n",
       "       ['陕西', 37327379, 39528999, 220.162, 5.8981371287815305],\n",
       "       ['上海', 23019196, 24870895, 185.1699, 8.04415149860143],\n",
       "       ['四川', 80417528, 83674366, 325.6838, 4.049910611527378],\n",
       "       ['天津', 12938693, 13866009, 92.7316, 7.166999016052085],\n",
       "       ['西藏', 3002165, 3648100, 64.5935, 21.515639546793732],\n",
       "       ['新疆', 21815815, 25852345, 403.653, 18.50276966503429],\n",
       "       ['云南', 45966766, 47209277, 124.2511, 2.7030637743799506],\n",
       "       ['浙江', 54426891, 64567588, 1014.0697, 18.63177707504917],\n",
       "       ['重庆', 28846170, 32054159, 320.7989, 11.121022305560842]],\n",
       "      dtype=object)"
      ]
     },
     "execution_count": 32,
     "metadata": {},
     "output_type": "execute_result"
    }
   ],
   "source": [
    "data=np.insert(ar,obj=3,values=(ar[:,2]-ar[:,1])/10000,axis=1)\n",
    "data=np.insert(data,obj=4,values=data[:,3]/data[:,1]*1000000,axis=1)\n",
    "data"
   ]
  },
  {
   "cell_type": "code",
   "execution_count": 33,
   "metadata": {},
   "outputs": [
    {
     "data": {
      "text/plain": [
       "array([['安徼', 59500468, 61027171, 152.6703, 2.565867213010829,\n",
       "        2.565867213010829],\n",
       "       ['北京', 19612368, 21893095, 228.0727, 11.629024093368022,\n",
       "        11.629024093368022],\n",
       "       ['福建', 36894217, 41540086, 464.5869, 12.592404386844692,\n",
       "        12.592404386844692],\n",
       "       ['甘肃', 25575263, 25019831, -55.5432, -2.171754792902814,\n",
       "        -2.171754792902814],\n",
       "       ['广东', 104320459, 126012510, 2169.2051, 20.7936690539293,\n",
       "        20.7936690539293],\n",
       "       ['广西', 46023761, 50126804, 410.3043, 8.915053682813971,\n",
       "        8.915053682813971],\n",
       "       ['贵州', 34748556, 38562148, 381.3592, 10.974821514885395,\n",
       "        10.974821514885395],\n",
       "       ['海南', 8671485, 10081232, 140.9747, 16.25727311988662,\n",
       "        16.25727311988662],\n",
       "       ['河北', 71854210, 74610235, 275.6025, 3.8355790147856337,\n",
       "        3.8355790147856337],\n",
       "       ['河南', 94029939, 99365519, 533.558, 5.674341658352028,\n",
       "        5.674341658352028],\n",
       "       ['黑龙江', 38313991, 31350088, -696.3903, -18.17587470853663,\n",
       "        -18.17587470853663],\n",
       "       ['湖北', 57237727, 57752557, 51.483, 0.8994591976023086,\n",
       "        0.8994591976023086],\n",
       "       ['湖南', 65700762, 66444864, 74.4102, 1.1325622068127612,\n",
       "        1.1325622068127612],\n",
       "       ['吉林', 27452815, 24073453, -337.9362, -12.309710315681652,\n",
       "        -12.309710315681652],\n",
       "       ['江苏', 78660941, 84748016, 608.7075, 7.738370432156411,\n",
       "        7.738370432156411],\n",
       "       ['江西', 44567797, 45188635, 62.0838, 1.3930192690475591,\n",
       "        1.3930192690475591],\n",
       "       ['辽宁', 43746323, 42591407, -115.4916, -2.6400298831972693,\n",
       "        -2.6400298831972693],\n",
       "       ['内蒙古', 24706291, 24049155, -65.7136, -2.6597921962466966,\n",
       "        -2.6597921962466966],\n",
       "       ['宁夏', 6301350, 7202654, 90.1304, 14.303347695335125,\n",
       "        14.303347695335125],\n",
       "       ['青海', 5626723, 5923957, 29.7234, 5.282541898721512,\n",
       "        5.282541898721512],\n",
       "       ['山东', 95792719, 101527453, 573.4734, 5.986607395495267,\n",
       "        5.986607395495267],\n",
       "       ['山西', 35712101, 34915616, -79.6485, -2.2302944315709676,\n",
       "        -2.2302944315709676],\n",
       "       ['陕西', 37327379, 39528999, 220.162, 5.8981371287815305,\n",
       "        5.8981371287815305],\n",
       "       ['上海', 23019196, 24870895, 185.1699, 8.04415149860143,\n",
       "        8.04415149860143],\n",
       "       ['四川', 80417528, 83674366, 325.6838, 4.049910611527378,\n",
       "        4.049910611527378],\n",
       "       ['天津', 12938693, 13866009, 92.7316, 7.166999016052085,\n",
       "        7.166999016052085],\n",
       "       ['西藏', 3002165, 3648100, 64.5935, 21.515639546793732,\n",
       "        21.515639546793732],\n",
       "       ['新疆', 21815815, 25852345, 403.653, 18.50276966503429,\n",
       "        18.50276966503429],\n",
       "       ['云南', 45966766, 47209277, 124.2511, 2.7030637743799506,\n",
       "        2.7030637743799506],\n",
       "       ['浙江', 54426891, 64567588, 1014.0697, 18.63177707504917,\n",
       "        18.63177707504917],\n",
       "       ['重庆', 28846170, 32054159, 320.7989, 11.121022305560842,\n",
       "        11.121022305560842]], dtype=object)"
      ]
     },
     "execution_count": 33,
     "metadata": {},
     "output_type": "execute_result"
    }
   ],
   "source": [
    "data=np.insert(data,obj=4,values=data[:,3]/data[:,1]*1000000,axis=1)\n",
    "data"
   ]
  },
  {
   "cell_type": "code",
   "execution_count": 34,
   "metadata": {},
   "outputs": [
    {
     "data": {
      "text/plain": [
       "array(['安徼', '北京', '福建', '广东', '广西', '贵州', '海南', '河北', '河南', '湖北', '湖南',\n",
       "       '江苏', '江西', '宁夏', '青海', '山东', '陕西', '上海', '四川', '天津', '西藏', '新疆',\n",
       "       '云南', '浙江', '重庆'], dtype=object)"
      ]
     },
     "execution_count": 34,
     "metadata": {},
     "output_type": "execute_result"
    }
   ],
   "source": [
    "data[ data[:,3]>0,0]"
   ]
  },
  {
   "cell_type": "code",
   "execution_count": 35,
   "metadata": {},
   "outputs": [
    {
     "name": "stdout",
     "output_type": "stream",
     "text": [
      "广东,浙江,江苏,山东,河南,福建,广西,新疆,贵州,四川,重庆,河北,北京,陕西,上海,安徼,海南,云南,天津,宁夏,湖南,西藏,江西,湖北,青海,甘肃,内蒙古,山西,辽宁,吉林,黑龙江,"
     ]
    }
   ],
   "source": [
    "x=sorted(data,key=lambda x:x[3],reverse=True)\n",
    "for i in x:\n",
    "    print(i[0],end=',')"
   ]
  },
  {
   "cell_type": "code",
   "execution_count": 37,
   "metadata": {},
   "outputs": [
    {
     "data": {
      "text/plain": [
       "'C:\\\\Users\\\\52335\\\\Desktop\\\\各省人口流量变化总体情况.html'"
      ]
     },
     "execution_count": 37,
     "metadata": {},
     "output_type": "execute_result"
    }
   ],
   "source": [
    "import pandas as pd \n",
    "from pyecharts.charts import Map\n",
    "from pyecharts import options as opts \n",
    "data=np.load(r'popu.npy',allow_pickle=True)\n",
    "data=np.insert(data,obj=3,values=(data[:,2]-data[:,1])/10000,axis=1)#axis=表示插入列\n",
    "data= np.delete(data,0,axis=1)\n",
    "b=np.array(['安徼省', '北京市', '福建省', '广东省', '广西壮族自治区', '贵州省', '海南省', '河北省', '河南', '湖北', '湖南',\n",
    "       '江苏省', '江西省', '宁夏回族自治区', '青海省', '山东省', '陕西省', '上海市', '四川省, '天津', '西藏', '新疆',\n",
    "       '云南省', '浙江省', '重庆市'])\n",
    "data= np.insert(data,0,values=b,axis=1)\n",
    "data=data[:,[0,3]]\n",
    "_max =600\n",
    "_min =-600\n",
    "map_ = Map()\n",
    "map_.add(\"\", data, maptype=\"china\", zoom=1)\n",
    "map_.set_global_opts(\n",
    "    title_opts=opts.TitleOpts(title=\"各省人口流量变化总体情况\",\n",
    "                              subtitle=\"数据来源：国家统计局\",\n",
    "                              pos_right=\"center\",\n",
    "                              pos_top=\"5%\"),                   \n",
    "    visualmap_opts=opts.VisualMapOpts(max_=_max,\n",
    "                                      min_=_min\n",
    "                                     )\n",
    "    )\n",
    "map_.render(\"C:/Users/52335/Desktop/各省人口流量变化总体情况.html\")\n"
   ]
  },
  {
   "cell_type": "code",
   "execution_count": null,
   "metadata": {},
   "outputs": [],
   "source": []
  }
 ],
 "metadata": {
  "kernelspec": {
   "display_name": "Python 3",
   "language": "python",
   "name": "python3"
  },
  "language_info": {
   "codemirror_mode": {
    "name": "ipython",
    "version": 3
   },
   "file_extension": ".py",
   "mimetype": "text/x-python",
   "name": "python",
   "nbconvert_exporter": "python",
   "pygments_lexer": "ipython3",
   "version": "3.7.0"
  }
 },
 "nbformat": 4,
 "nbformat_minor": 2
}
