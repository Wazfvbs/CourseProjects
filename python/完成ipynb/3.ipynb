{
 "cells": [
  {
   "cell_type": "code",
   "execution_count": 1,
   "metadata": {},
   "outputs": [
    {
     "name": "stdout",
     "output_type": "stream",
     "text": [
      "==============================\n",
      "Item                Price     \n",
      "------------------------------\n",
      "Apples              0.40      \n",
      "Pears               0.50      \n",
      "Bananas             0.70      \n",
      "Grapes              0.40      \n",
      "==============================\n"
     ]
    }
   ],
   "source": [
    "frute = {\"Apples\":0.4,\"Pears\":0.5,\"Bananas\":0.7,\"Grapes\":0.4}\n",
    "print(\"=\"*30)\n",
    "print(\"{:<15s}{:^15s}\".format(\"Item\",\"Price\"))\n",
    "print('-'*30)\n",
    "for k,v in frute.items():\n",
    "    print(\"{:<15s}{:^15.2f}\".format(k,v))\n",
    "print(\"=\"*30)\n"
   ]
  },
  {
   "cell_type": "code",
   "execution_count": 5,
   "metadata": {},
   "outputs": [
    {
     "name": "stdout",
     "output_type": "stream",
     "text": [
      "1,2,3,4,5,6,7,8,9,0\n"
     ]
    },
    {
     "data": {
      "text/plain": [
       "4.5"
      ]
     },
     "execution_count": 5,
     "metadata": {},
     "output_type": "execute_result"
    }
   ],
   "source": [
    "st=list(eval(input()))\n",
    "st.remove(max(st))\n",
    "st.remove(min(st))\n",
    "grade=sum(st)/len(st)\n",
    "grade"
   ]
  },
  {
   "cell_type": "code",
   "execution_count": 6,
   "metadata": {},
   "outputs": [
    {
     "name": "stdout",
     "output_type": "stream",
     "text": [
      "1,2,3,4,5,6,7,8,9,0\n"
     ]
    },
    {
     "data": {
      "text/plain": [
       "4.5"
      ]
     },
     "execution_count": 6,
     "metadata": {},
     "output_type": "execute_result"
    }
   ],
   "source": [
    "st=list(eval(input()))\n",
    "st=sorted(st)\n",
    "grade=sum(st[1:-1])/(len(st)-2)\n",
    "grade"
   ]
  },
  {
   "cell_type": "code",
   "execution_count": 7,
   "metadata": {},
   "outputs": [
    {
     "name": "stdout",
     "output_type": "stream",
     "text": [
      "32450089\n",
      "98543200 234589\n"
     ]
    }
   ],
   "source": [
    "s=input()\n",
    "s=sorted(s,reverse=True)\n",
    "x=int(\"\".join(s))\n",
    "ss=s[::-1]\n",
    "y=int(\"\".join(s[::-1]))\n",
    "print(x,y)\n"
   ]
  },
  {
   "cell_type": "code",
   "execution_count": 11,
   "metadata": {},
   "outputs": [
    {
     "name": "stdout",
     "output_type": "stream",
     "text": [
      "[('down', 2), ('touched', 1), ('like', 1), ('am', 1), ('tied', 1), ('fix', 1), ('it', 3), ('showing', 1), ('fishermen', 4), ('behave', 1), ('off', 1), ('woods', 1), ('after', 2), ('in', 4), ('he', 3), ('regretted', 1), ('lunch', 1), ('net', 6), ('how', 2), ('water', 2), ('into', 1), ('climbed', 2), ('watched', 1), ('prowess', 1), ('wound', 1), ('planning', 1), ('should', 1), ('drowned', 1), ('up', 2), ('since', 1), ('learned', 1), ('over', 1), ('saw', 1), ('imitating', 1), ('yet', 1), ('who', 1), ('upon', 1), ('caught', 1), ('sometime', 1), ('went', 2), ('lived', 1), ('fell', 1), ('fish', 1), ('when', 1), ('and', 4), ('touching', 1), ('my', 1), ('time', 1), ('tree', 2), ('bad', 1), ('i', 2), ('riverside', 1), ('throw', 2), ('did', 2), ('but', 1), ('looked', 1), ('carefully', 1), ('behavior', 1), ('not', 1), ('too', 1), ('monkey', 10), ('his', 1), ('at', 2), ('have', 2), ('day', 1), ('before', 1), ('everyday', 1), ('a', 4), ('one', 1), ('then', 1), ('once', 1), ('there', 1), ('river', 2), ('the', 25), ('good', 1), ('was', 4), ('believing', 1), ('around', 1), ('left', 1), ('confident', 1), ('late', 1), ('from', 1), ('to', 4), ('use', 1)]\n"
     ]
    }
   ],
   "source": [
    "strstory ='''Once upon a time, there lived a monkey in the woods. The monkey climbed up the tree and looked down at the river everyday.\n",
    "One day, the monkey saw fishermen throw a net over the river. He watched how the fishermen caught fish.\n",
    "Sometime after, the fishermen left the net and went to have lunch. Then, the monkey climbed down from the tree and went to the riverside. The monkey was planning to throw the net like the fishermen did.\n",
    "The monkey was confident since he was good at imitating. Yet, the net wound around the monkey when he touched it. Tied up in the net, the monkey fell into the water.\n",
    "The monkey regretted his behavior, but it was too late. \"I should have learned how to use the net before touching it. After believing my prowess and showing off, I am in a bad fix.\" The monkey who did not behave carefully drowned in the water.\n",
    "'''\n",
    "for i in \".,'\\\"?\\n\":\n",
    "    strstory=strstory.replace(i,\" \")\n",
    "strstory = strstory.lower()\n",
    "words=strstory.split()\n",
    "#print(words)\n",
    "words2=set(words)\n",
    "dic={}\n",
    "for i in words2:\n",
    "    dic[i]=words.count(i)\n",
    "stdic=list(dic.items())\n",
    "print(stdic)\n"
   ]
  },
  {
   "cell_type": "code",
   "execution_count": 12,
   "metadata": {},
   "outputs": [
    {
     "name": "stdout",
     "output_type": "stream",
     "text": [
      "10,20,158,2,25,186,1515,5,66,98\n",
      "4\n",
      "(2, 158, 20, 10, 98, 66, 5, 1515, 186, 25)\n"
     ]
    }
   ],
   "source": [
    "x=eval(input())\n",
    "k=int(input())\n",
    "if k<0 or k>len(x):\n",
    "    print('error!')\n",
    "else:\n",
    "    xleft=x[:k]\n",
    "    xright=x[k:]\n",
    "    xleft=xleft[::-1]\n",
    "    xright=xright[::-1]\n",
    "    x=xleft+xright\n",
    "    print(x)\n"
   ]
  },
  {
   "cell_type": "code",
   "execution_count": 13,
   "metadata": {},
   "outputs": [
    {
     "name": "stdout",
     "output_type": "stream",
     "text": [
      "第1次猜测：0123\n",
      "0A2B\n",
      "第2次猜测：4567\n",
      "0A2B\n",
      "第3次猜测：0145\n",
      "1A2B\n",
      "第4次猜测：1046\n",
      "0A2B\n",
      "第5次猜测：4205\n",
      "2A2B\n",
      "第6次猜测：2405\n",
      "you are so good!\n"
     ]
    }
   ],
   "source": [
    "import random\n",
    "def init():\n",
    "    random.seed()\n",
    "    return random.sample(range(0,10),4)\n",
    "\n",
    "def guess(al):\n",
    "    al=map(str,al)\n",
    "    al=list(al)\n",
    "    #print(al)\n",
    "    for i in range(7):\n",
    "        an=input('第%d次猜测：'%(i+1))\n",
    "        stn=list(an)\n",
    "        if an.isdigit()==False and an.lower()=='no':\n",
    "            print('不想玩了就退出吧，答案是:',al,sep=\"\")\n",
    "            break\n",
    "        if(len(stn)!=4):\n",
    "            print('input is error')\n",
    "            continue\n",
    "        if(stn==al):\n",
    "            print(\"you are so good!\")\n",
    "            break\n",
    "        a,b=0,0\n",
    "        for j in range(4):\n",
    "            if stn[j] in al:\n",
    "                b+=1\n",
    "            if stn[j]==al[j]:\n",
    "                a+=1\n",
    "        b=b-a\n",
    "        print(\"%dA%dB\"%(a,b))\n",
    "    else:\n",
    "        print('you are so ...,result is ',\"\".join(al))\n",
    "guess(init())"
   ]
  },
  {
   "cell_type": "code",
   "execution_count": null,
   "metadata": {},
   "outputs": [],
   "source": []
  },
  {
   "cell_type": "code",
   "execution_count": null,
   "metadata": {},
   "outputs": [],
   "source": []
  }
 ],
 "metadata": {
  "kernelspec": {
   "display_name": "Python 3",
   "language": "python",
   "name": "python3"
  },
  "language_info": {
   "codemirror_mode": {
    "name": "ipython",
    "version": 3
   },
   "file_extension": ".py",
   "mimetype": "text/x-python",
   "name": "python",
   "nbconvert_exporter": "python",
   "pygments_lexer": "ipython3",
   "version": "3.7.0"
  }
 },
 "nbformat": 4,
 "nbformat_minor": 2
}
