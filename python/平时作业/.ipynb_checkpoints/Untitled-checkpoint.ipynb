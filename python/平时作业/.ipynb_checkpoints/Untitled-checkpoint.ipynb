{
 "cells": [
  {
   "cell_type": "code",
   "execution_count": 2,
   "metadata": {},
   "outputs": [
    {
     "name": "stdout",
     "output_type": "stream",
     "text": [
      "7224\n"
     ]
    }
   ],
   "source": [
    "def TenToEight(num):\n",
    "    result = \"\"\n",
    "    while num > 0:\n",
    "        ret = num % 8\n",
    "        num //= 8\n",
    "        result = str(ret) + result\n",
    "    return result\n",
    "print(TenToEight(3732))"
   ]
  },
  {
   "cell_type": "code",
   "execution_count": 7,
   "metadata": {},
   "outputs": [
    {
     "name": "stdout",
     "output_type": "stream",
     "text": [
      "12a\n",
      "45a\n",
      "57\n"
     ]
    }
   ],
   "source": [
    "s1=input()\n",
    "s2=input()\n",
    "a=int(s1[0:2])+int(s2[0:2])\n",
    "print(a)"
   ]
  },
  {
   "cell_type": "code",
   "execution_count": 8,
   "metadata": {},
   "outputs": [
    {
     "name": "stdout",
     "output_type": "stream",
     "text": [
      "1 2 1\n",
      "x1=x2=-1.00000\n"
     ]
    }
   ],
   "source": [
    "from cmath import sqrt\n",
    "a,b,c = map(float,input().split())\n",
    "delta=b**2-4*a*c\n",
    "x1=(-b+sqrt(delta))/(2*a)\n",
    "x2=(-b-sqrt(delta))/(2*a)\n",
    "if delta==0:\n",
    "    print(f'x1=x2={x1.real:.5f}')\n",
    "elif delta>0:\n",
    "    print(f'x1={x1.real:.5f};x2={x2.real:.5f}')\n",
    "else:\n",
    "    print(f'x1={x1:.5f};x2={x1.conjugate():.5f}'.replace('j','i'))"
   ]
  },
  {
   "cell_type": "code",
   "execution_count": 2,
   "metadata": {},
   "outputs": [
    {
     "name": "stdout",
     "output_type": "stream",
     "text": [
      "-4645\n",
      "-5464\n"
     ]
    }
   ],
   "source": [
    "n=input()\n",
    "if n[0]=='-':\n",
    "    print(int(n[0]+n[-1:0:-1]))\n",
    "else:\n",
    "    print(int(n[-1::-1]))"
   ]
  },
  {
   "cell_type": "code",
   "execution_count": 14,
   "metadata": {},
   "outputs": [
    {
     "name": "stdout",
     "output_type": "stream",
     "text": [
      "12,45,78\n",
      "135\n"
     ]
    }
   ],
   "source": [
    "def add(*x):\n",
    "    sum1=0\n",
    "    for a in x:\n",
    "        sum1+=a\n",
    "    return sum1\n",
    "x = eval(input())  \n",
    "x = list(x)         \n",
    "print(add(*x))    "
   ]
  },
  {
   "cell_type": "code",
   "execution_count": 15,
   "metadata": {},
   "outputs": [
    {
     "name": "stdout",
     "output_type": "stream",
     "text": [
      "2 3\n",
      "a 10 3\n",
      "b 20 3\n",
      "c 15 6\n",
      "a b c\n",
      "a b c\n",
      "90\n"
     ]
    }
   ],
   "source": [
    "n,m=map(int,input().split())\n",
    "meals={}\n",
    "sum1=0\n",
    "for i in range(m):\n",
    "    name,price,count=input().split()\n",
    "    meals[name]=[int(price),int(count)]\n",
    "for i in range(n):\n",
    "    stu=input().split()\n",
    "    for mel in stu:\n",
    "        if meals[mel][1]>0:\n",
    "            sum1+=meals[mel][0]\n",
    "            meals[mel]=[meals[mel][0],meals[mel][1]-1]\n",
    "print(sum1)"
   ]
  }
 ],
 "metadata": {
  "kernelspec": {
   "display_name": "Python 3",
   "language": "python",
   "name": "python3"
  },
  "language_info": {
   "codemirror_mode": {
    "name": "ipython",
    "version": 3
   },
   "file_extension": ".py",
   "mimetype": "text/x-python",
   "name": "python",
   "nbconvert_exporter": "python",
   "pygments_lexer": "ipython3",
   "version": "3.7.0"
  }
 },
 "nbformat": 4,
 "nbformat_minor": 2
}
